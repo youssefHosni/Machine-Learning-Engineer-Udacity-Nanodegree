{
 "cells": [
  {
   "cell_type": "markdown",
   "metadata": {},
   "source": [
    "# 使用 Shirt 类\n",
    "\n",
    "你已经知道类是什么，以及如何实例化对象。现在该你来编写实例化 shirt 对象的代码了。\n",
    "\n",
    "# 代码说明\n",
    "此 Jupyter notebook 位于名为 1.OOP_syntax_shirt_practice 的文件夹里。你可以点击 notebook 上方的“Jupyter”图标，找到此文件夹。该文件夹包含三个文件：\n",
    "- shirt_exercise.ipynb，就是你当前查看的文件\n",
    "- answer.py 包含练习答案\n",
    "- tests.py 包含用于检查代码的测试，你可以使用此 notebook 底部的最后一个代码单元格运行这些测试。\n",
    "\n",
    "# 你的任务\n",
    "如果你正在阅读这段文字，说明你在查看的文件就是 shirt_exercise.ipynb 文件；此文件包含一道练习，可以帮你练习如何使用 Python 对象完成编码。\n",
    "\n",
    "请完成 Jupyter notebook 的每一部分中的 TODO。你可以在 answer.py 文件里找到答案。\n",
    "\n",
    "首先，运行以下代码单元格以加载 Shirt 类。"
   ]
  },
  {
   "cell_type": "code",
   "execution_count": null,
   "metadata": {},
   "outputs": [],
   "source": [
    "class Shirt:\n",
    "\n",
    "    def __init__(self, shirt_color, shirt_size, shirt_style, shirt_price):\n",
    "        self.color = shirt_color\n",
    "        self.size = shirt_size\n",
    "        self.style = shirt_style\n",
    "        self.price = shirt_price\n",
    "    \n",
    "    def change_price(self, new_price):\n",
    "    \n",
    "        self.price = new_price\n",
    "        \n",
    "    def discount(self, discount):\n",
    "\n",
    "        return self.price * (1 - discount)"
   ]
  },
  {
   "cell_type": "code",
   "execution_count": null,
   "metadata": {},
   "outputs": [],
   "source": [
    "### TODO:\n",
    "#    - insantiate a shirt object with the following characteristics:\n",
    "#        - color red, size S, style long-sleeve, and price 25\n",
    "#    - store the object in a variable called shirt_one\n",
    "#\n",
    "#\n",
    "###"
   ]
  },
  {
   "cell_type": "code",
   "execution_count": null,
   "metadata": {},
   "outputs": [],
   "source": [
    "### TODO:\n",
    "#     - print the price of the shirt using the price attribute\n",
    "#     - use the change_price method to change the price of the shirt to 10\n",
    "#     - print the price of the shirt using the price attribute\n",
    "#     - use the discount method to print the price of the shirt with a 12% discount\n",
    "#\n",
    "###"
   ]
  },
  {
   "cell_type": "code",
   "execution_count": null,
   "metadata": {},
   "outputs": [],
   "source": [
    "### TODO:\n",
    "#\n",
    "#    - instantiate another object with the following characteristics:\n",
    "# .       - color orange, size L, style short-sleeve, and price 10\n",
    "#    - store the object in a variable called shirt_two\n",
    "#\n",
    "###"
   ]
  },
  {
   "cell_type": "code",
   "execution_count": null,
   "metadata": {},
   "outputs": [],
   "source": [
    "### TODO:\n",
    "#\n",
    "#    - calculate the total cost of shirt_one and shirt_two\n",
    "#    - store the results in a variable called total\n",
    "#    \n",
    "###"
   ]
  },
  {
   "cell_type": "code",
   "execution_count": null,
   "metadata": {},
   "outputs": [],
   "source": [
    "### TODO:\n",
    "#\n",
    "#    - use the shirt discount method to calculate the total cost if\n",
    "#       shirt_one has a discount of 14% and shirt_two has a discount\n",
    "#       of 6%\n",
    "#    - store the results in a variable called total_discount\n",
    "###"
   ]
  },
  {
   "cell_type": "markdown",
   "metadata": {},
   "source": [
    "# 测试代码\n",
    "\n",
    "\n",
    "以下代码单元格可用来测试你的代码。\n",
    "\n",
    "tests.py 的文件包含一个函数叫做 run_tests()，该函数可以输入大量条件，用来检查你的代码。要查看此文件，请转到 Jupyter Notebook 菜单部分，依次点击“File > Open...”，然后打开 tests.py 文件。\n",
    "\n",
    "运行下面的代码单元格。如果你的答案不正确，代码将报错。请继续修改你的代码，直到通过所有测试。\n",
    "\n",
    "如果你运行了代码单元格，没有任何报错，则表明你通过了所有测试！\n",
    "\n",
    "正如之前提到的，我们还提供了答案文件。要查找答案，请点击 workspace 顶部的 Jupyter 图标，然后进入文件夹 1.OOP_syntax_shirt_practice。"
   ]
  },
  {
   "cell_type": "code",
   "execution_count": null,
   "metadata": {},
   "outputs": [],
   "source": [
    "# Unit tests to check your solution\n",
    "from tests import run_tests\n",
    "\n",
    "run_tests(shirt_one, shirt_two, total, total_discount)"
   ]
  }
 ],
 "metadata": {
  "kernelspec": {
   "display_name": "Python 3",
   "language": "python",
   "name": "python3"
  },
  "language_info": {
   "codemirror_mode": {
    "name": "ipython",
    "version": 3
   },
   "file_extension": ".py",
   "mimetype": "text/x-python",
   "name": "python",
   "nbconvert_exporter": "python",
   "pygments_lexer": "ipython3",
   "version": "3.6.3"
  }
 },
 "nbformat": 4,
 "nbformat_minor": 2
}
