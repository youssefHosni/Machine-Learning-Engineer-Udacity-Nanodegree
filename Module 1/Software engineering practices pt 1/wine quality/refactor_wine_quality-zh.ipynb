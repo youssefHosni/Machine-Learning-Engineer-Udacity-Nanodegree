{
 "cells": [
  {
   "cell_type": "markdown",
   "metadata": {},
   "source": [
    "# 重构：葡萄酒品质分析\n",
    "在本次练习中，你将重构分析葡萄酒品质数据集的代码，该数据来自 [UCI 机器学习库](https://archive.ics.uci.edu/ml/datasets/wine+quality)。数据中每一行对应一个葡萄酒样品，其中包括测试中收集的几种物理化学性质，以及葡萄酒专家评估的质量等级。\n",
    "\n",
    "这个 Notebook 中的代码，首先重命名了数据集的列名，然后计算某些可能与质量等级相关的统计信息。你能重构以下代码，使其更整洁、更模块化吗？"
   ]
  },
  {
   "cell_type": "code",
   "execution_count": null,
   "metadata": {},
   "outputs": [],
   "source": [
    "import pandas as pd\n",
    "df = pd.read_csv('winequality-red.csv', sep=';')\n",
    "df.head()"
   ]
  },
  {
   "cell_type": "markdown",
   "metadata": {},
   "source": [
    "### 重命名列名\n",
    "你想要使用下划线替换列标签中的空格，以便能够使用点表示法引用列。以下是一种实现方法："
   ]
  },
  {
   "cell_type": "code",
   "execution_count": null,
   "metadata": {},
   "outputs": [],
   "source": [
    "new_df = df.rename(columns={'fixed acidity': 'fixed_acidity',\n",
    "                             'volatile acidity': 'volatile_acidity',\n",
    "                             'citric acid': 'citric_acid',\n",
    "                             'residual sugar': 'residual_sugar',\n",
    "                             'free sulfur dioxide': 'free_sulfur_dioxide',\n",
    "                             'total sulfur dioxide': 'total_sulfur_dioxide'\n",
    "                            })\n",
    "new_df.head()"
   ]
  },
  {
   "cell_type": "markdown",
   "metadata": {},
   "source": [
    "下面是一个更优的做法，可以避免由于手动输入引起的拼写错误，但是这些代码看起来比较重复，你可以优化一下吗？"
   ]
  },
  {
   "cell_type": "code",
   "execution_count": null,
   "metadata": {},
   "outputs": [],
   "source": [
    "labels = list(df.columns)\n",
    "labels[0] = labels[0].replace(' ', '_')\n",
    "labels[1] = labels[1].replace(' ', '_')\n",
    "labels[2] = labels[2].replace(' ', '_')\n",
    "labels[3] = labels[3].replace(' ', '_')\n",
    "labels[5] = labels[5].replace(' ', '_')\n",
    "labels[6] = labels[6].replace(' ', '_')\n",
    "df.columns = labels\n",
    "\n",
    "df.head()"
   ]
  },
  {
   "cell_type": "markdown",
   "metadata": {},
   "source": [
    "### 分析特征\n",
    "现在各列已准备就绪，你希望了解此数据集的不同特征与葡萄酒的质量等级之间的关系。一种非常简单的方法是观察每个特征的上半部分和下半部分的平均质量等级。下面的代码针对四个特征执行此操作，现在看起来很重复，你能让这段代码更简洁吗？\n",
    "\n",
    "你也可以挑战自己，看看如何使代码更有效！不过现在还不需要过多担心效率 - 我们将在下一节中详细介绍这一点。"
   ]
  },
  {
   "cell_type": "code",
   "execution_count": null,
   "metadata": {},
   "outputs": [],
   "source": [
    "median_alcohol = df.alcohol.median()\n",
    "for i, alcohol in enumerate(df.alcohol):\n",
    "    if alcohol >= median_alcohol:\n",
    "        df.loc[i, 'alcohol'] = 'high'\n",
    "    else:\n",
    "        df.loc[i, 'alcohol'] = 'low'\n",
    "df.groupby('alcohol').quality.mean()"
   ]
  },
  {
   "cell_type": "code",
   "execution_count": null,
   "metadata": {},
   "outputs": [],
   "source": [
    "median_pH = df.pH.median()\n",
    "for i, pH in enumerate(df.pH):\n",
    "    if pH >= median_pH:\n",
    "        df.loc[i, 'pH'] = 'high'\n",
    "    else:\n",
    "        df.loc[i, 'pH'] = 'low'\n",
    "df.groupby('pH').quality.mean()"
   ]
  },
  {
   "cell_type": "code",
   "execution_count": null,
   "metadata": {},
   "outputs": [],
   "source": [
    "median_sugar = df.residual_sugar.median()\n",
    "for i, sugar in enumerate(df.residual_sugar):\n",
    "    if sugar >= median_sugar:\n",
    "        df.loc[i, 'residual_sugar'] = 'high'\n",
    "    else:\n",
    "        df.loc[i, 'residual_sugar'] = 'low'\n",
    "df.groupby('residual_sugar').quality.mean()"
   ]
  },
  {
   "cell_type": "code",
   "execution_count": null,
   "metadata": {},
   "outputs": [],
   "source": [
    "median_citric_acid = df.citric_acid.median()\n",
    "for i, citric_acid in enumerate(df.citric_acid):\n",
    "    if citric_acid >= median_citric_acid:\n",
    "        df.loc[i, 'citric_acid'] = 'high'\n",
    "    else:\n",
    "        df.loc[i, 'citric_acid'] = 'low'\n",
    "df.groupby('citric_acid').quality.mean()"
   ]
  },
  {
   "cell_type": "code",
   "execution_count": null,
   "metadata": {},
   "outputs": [],
   "source": []
  }
 ],
 "metadata": {
  "kernelspec": {
   "display_name": "Python 3",
   "language": "python",
   "name": "python3"
  },
  "language_info": {
   "codemirror_mode": {
    "name": "ipython",
    "version": 3
   },
   "file_extension": ".py",
   "mimetype": "text/x-python",
   "name": "python",
   "nbconvert_exporter": "python",
   "pygments_lexer": "ipython3",
   "version": "3.6.3"
  }
 },
 "nbformat": 4,
 "nbformat_minor": 2
}
