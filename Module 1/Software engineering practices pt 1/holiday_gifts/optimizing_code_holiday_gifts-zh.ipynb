{
 "cells": [
  {
   "cell_type": "markdown",
   "metadata": {},
   "source": [
    "# 优化代码：假期礼品\n",
    "在上一个示例中，你了解到使用向量运算和更高效的数据结构可以优化代码。让我们将这些技巧用于另一个例子。\n",
    "\n",
    "假设你的在线礼品商店有一百万用户，每个用户都在愿望清单中列出了一个礼品，这些礼品的价格存储在 `gift_costs.txt` 中。假期的时候，如果顾客愿望清单中的礼品低于 25 美元，你会免费将礼品提供给该顾客。现在，你想要计算 25 美元以下所有礼品的总成本，以了解你在免费礼品上的花费。下面是一种实现方式："
   ]
  },
  {
   "cell_type": "code",
   "execution_count": null,
   "metadata": {},
   "outputs": [],
   "source": [
    "import time\n",
    "import numpy as np"
   ]
  },
  {
   "cell_type": "code",
   "execution_count": null,
   "metadata": {},
   "outputs": [],
   "source": [
    "with open('gift_costs.txt') as f:\n",
    "    gift_costs = f.read().split('\\n')\n",
    "    \n",
    "gift_costs = np.array(gift_costs).astype(int)  # convert string to int"
   ]
  },
  {
   "cell_type": "code",
   "execution_count": null,
   "metadata": {},
   "outputs": [],
   "source": [
    "start = time.time()\n",
    "\n",
    "total_price = 0\n",
    "for cost in gift_costs:\n",
    "    if cost < 25:\n",
    "        total_price += cost * 1.08  # add cost after tax\n",
    "\n",
    "print(total_price)\n",
    "print('Duration: {} seconds'.format(time.time() - start))"
   ]
  },
  {
   "cell_type": "markdown",
   "metadata": {},
   "source": [
    "这段代码中，你遍历列表中的每个价格，检查是否小于 25，如果是，则将其添加到总价中。这是可行的，但是还可以优化为运行时间更快的代码，你能将其重构为运行时间低于半秒钟的版本吗？"
   ]
  },
  {
   "cell_type": "markdown",
   "metadata": {},
   "source": [
    "## 重构代码\n",
    "**提示：**使用 NumPy 可以很容易筛选出数组中满足特定条件的所有元素，然后对这些元素执行运算，这样就可以算出这些值的总和了。"
   ]
  },
  {
   "cell_type": "code",
   "execution_count": null,
   "metadata": {},
   "outputs": [],
   "source": [
    "start = time.time()\n",
    "\n",
    "total_price =  # TODO: compute the total price\n",
    "\n",
    "print(total_price)\n",
    "print('Duration: {} seconds'.format(time.time() - start))"
   ]
  },
  {
   "cell_type": "code",
   "execution_count": null,
   "metadata": {},
   "outputs": [],
   "source": []
  }
 ],
 "metadata": {
  "kernelspec": {
   "display_name": "Python 3",
   "language": "python",
   "name": "python3"
  },
  "language_info": {
   "codemirror_mode": {
    "name": "ipython",
    "version": 3
   },
   "file_extension": ".py",
   "mimetype": "text/x-python",
   "name": "python",
   "nbconvert_exporter": "python",
   "pygments_lexer": "ipython3",
   "version": "3.6.3"
  }
 },
 "nbformat": 4,
 "nbformat_minor": 2
}
